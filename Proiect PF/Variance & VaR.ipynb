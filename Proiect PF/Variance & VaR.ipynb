{
 "cells": [
  {
   "cell_type": "code",
   "execution_count": 18,
   "metadata": {},
   "outputs": [
    {
     "data": {
      "text/html": [
       "<div>\n",
       "<style scoped>\n",
       "    .dataframe tbody tr th:only-of-type {\n",
       "        vertical-align: middle;\n",
       "    }\n",
       "\n",
       "    .dataframe tbody tr th {\n",
       "        vertical-align: top;\n",
       "    }\n",
       "\n",
       "    .dataframe thead th {\n",
       "        text-align: right;\n",
       "    }\n",
       "</style>\n",
       "<table border=\"1\" class=\"dataframe\">\n",
       "  <thead>\n",
       "    <tr style=\"text-align: right;\">\n",
       "      <th></th>\n",
       "      <th>Date</th>\n",
       "      <th>Open</th>\n",
       "      <th>High</th>\n",
       "      <th>Low</th>\n",
       "      <th>Close</th>\n",
       "      <th>Adj Close</th>\n",
       "      <th>Volume</th>\n",
       "    </tr>\n",
       "  </thead>\n",
       "  <tbody>\n",
       "    <tr>\n",
       "      <th>0</th>\n",
       "      <td>6/29/2010</td>\n",
       "      <td>3.80</td>\n",
       "      <td>5.00</td>\n",
       "      <td>3.51</td>\n",
       "      <td>4.78</td>\n",
       "      <td>4.78</td>\n",
       "      <td>93831500.0</td>\n",
       "    </tr>\n",
       "    <tr>\n",
       "      <th>1</th>\n",
       "      <td>6/30/2010</td>\n",
       "      <td>5.16</td>\n",
       "      <td>6.08</td>\n",
       "      <td>4.66</td>\n",
       "      <td>4.77</td>\n",
       "      <td>4.77</td>\n",
       "      <td>85935500.0</td>\n",
       "    </tr>\n",
       "    <tr>\n",
       "      <th>2</th>\n",
       "      <td>7/1/2010</td>\n",
       "      <td>5.00</td>\n",
       "      <td>5.18</td>\n",
       "      <td>4.05</td>\n",
       "      <td>4.39</td>\n",
       "      <td>4.39</td>\n",
       "      <td>41094000.0</td>\n",
       "    </tr>\n",
       "    <tr>\n",
       "      <th>3</th>\n",
       "      <td>7/2/2010</td>\n",
       "      <td>4.60</td>\n",
       "      <td>4.62</td>\n",
       "      <td>3.74</td>\n",
       "      <td>3.84</td>\n",
       "      <td>3.84</td>\n",
       "      <td>25699000.0</td>\n",
       "    </tr>\n",
       "    <tr>\n",
       "      <th>4</th>\n",
       "      <td>7/6/2010</td>\n",
       "      <td>4.00</td>\n",
       "      <td>4.00</td>\n",
       "      <td>3.17</td>\n",
       "      <td>3.22</td>\n",
       "      <td>3.22</td>\n",
       "      <td>34334500.0</td>\n",
       "    </tr>\n",
       "    <tr>\n",
       "      <th>...</th>\n",
       "      <td>...</td>\n",
       "      <td>...</td>\n",
       "      <td>...</td>\n",
       "      <td>...</td>\n",
       "      <td>...</td>\n",
       "      <td>...</td>\n",
       "      <td>...</td>\n",
       "    </tr>\n",
       "    <tr>\n",
       "      <th>2908</th>\n",
       "      <td>1/14/2022</td>\n",
       "      <td>1019.88</td>\n",
       "      <td>1052.00</td>\n",
       "      <td>1013.38</td>\n",
       "      <td>1049.61</td>\n",
       "      <td>1049.61</td>\n",
       "      <td>24246600.0</td>\n",
       "    </tr>\n",
       "    <tr>\n",
       "      <th>2909</th>\n",
       "      <td>1/18/2022</td>\n",
       "      <td>1026.61</td>\n",
       "      <td>1070.79</td>\n",
       "      <td>1016.06</td>\n",
       "      <td>1030.51</td>\n",
       "      <td>1030.51</td>\n",
       "      <td>22247800.0</td>\n",
       "    </tr>\n",
       "    <tr>\n",
       "      <th>2910</th>\n",
       "      <td>1/19/2022</td>\n",
       "      <td>1041.71</td>\n",
       "      <td>1054.67</td>\n",
       "      <td>995.00</td>\n",
       "      <td>995.65</td>\n",
       "      <td>995.65</td>\n",
       "      <td>25147500.0</td>\n",
       "    </tr>\n",
       "    <tr>\n",
       "      <th>2911</th>\n",
       "      <td>1/20/2022</td>\n",
       "      <td>1009.73</td>\n",
       "      <td>1041.66</td>\n",
       "      <td>994.00</td>\n",
       "      <td>996.27</td>\n",
       "      <td>996.27</td>\n",
       "      <td>23496200.0</td>\n",
       "    </tr>\n",
       "    <tr>\n",
       "      <th>2912</th>\n",
       "      <td>1/21/2022</td>\n",
       "      <td>996.34</td>\n",
       "      <td>1004.55</td>\n",
       "      <td>940.50</td>\n",
       "      <td>943.90</td>\n",
       "      <td>943.90</td>\n",
       "      <td>34126500.0</td>\n",
       "    </tr>\n",
       "  </tbody>\n",
       "</table>\n",
       "<p>2913 rows × 7 columns</p>\n",
       "</div>"
      ],
      "text/plain": [
       "           Date    Open     High      Low    Close   Adj Close      Volume\n",
       "0     6/29/2010     3.80     5.00     3.51     4.78       4.78  93831500.0\n",
       "1     6/30/2010     5.16     6.08     4.66     4.77       4.77  85935500.0\n",
       "2      7/1/2010     5.00     5.18     4.05     4.39       4.39  41094000.0\n",
       "3      7/2/2010     4.60     4.62     3.74     3.84       3.84  25699000.0\n",
       "4      7/6/2010     4.00     4.00     3.17     3.22       3.22  34334500.0\n",
       "...         ...      ...      ...      ...      ...        ...         ...\n",
       "2908  1/14/2022  1019.88  1052.00  1013.38  1049.61    1049.61  24246600.0\n",
       "2909  1/18/2022  1026.61  1070.79  1016.06  1030.51    1030.51  22247800.0\n",
       "2910  1/19/2022  1041.71  1054.67   995.00   995.65     995.65  25147500.0\n",
       "2911  1/20/2022  1009.73  1041.66   994.00   996.27     996.27  23496200.0\n",
       "2912  1/21/2022   996.34  1004.55   940.50   943.90     943.90  34126500.0\n",
       "\n",
       "[2913 rows x 7 columns]"
      ]
     },
     "execution_count": 18,
     "metadata": {},
     "output_type": "execute_result"
    }
   ],
   "source": [
    "import numpy as np\n",
    "import pandas as pd\n",
    "import scipy\n",
    "import scipy.stats as stat\n",
    "import datetime\n",
    "from arch.unitroot import VarianceRatio\n",
    "from scipy.stats import multivariate_normal\n",
    "from mpl_toolkits.mplot3d import Axes3D\n",
    "\n",
    "df = pd.read_csv(\"TSLA.csv\")\n",
    "\n",
    "#see your data\n",
    "df"
   ]
  },
  {
   "cell_type": "markdown",
   "metadata": {},
   "source": [
    "\n",
    "\n",
    "Simple return: $R_t=\\frac{P_t - P_{t-1}}{P_{t-1}}$\n",
    "\n",
    "Log-return: $r_t = \\log\\left(\\frac{P_t}{P_{t-1}}\\right)=\\log{P_t}-\\log{P_{t-1}}$"
   ]
  },
  {
   "cell_type": "code",
   "execution_count": 19,
   "metadata": {},
   "outputs": [
    {
     "name": "stdout",
     "output_type": "stream",
     "text": [
      "            Adj Close\n",
      "Date                 \n",
      "2010-06-29       4.78\n",
      "2010-06-30       4.77\n",
      "2010-07-01       4.39\n",
      "2010-07-02       3.84\n",
      "2010-07-06       3.22\n",
      "...               ...\n",
      "2022-01-14    1049.61\n",
      "2022-01-18    1030.51\n",
      "2022-01-19     995.65\n",
      "2022-01-20     996.27\n",
      "2022-01-21     943.90\n",
      "\n",
      "[2913 rows x 1 columns]\n"
     ]
    }
   ],
   "source": [
    "#convert date into datetime for later resampling purposes \n",
    "df['Date'] = df.loc[:,'Date'].astype('datetime64[ns]')\n",
    "\n",
    "df = df[['Date','Adj Close']]\n",
    "df.set_index('Date',inplace=True)\n",
    "print(df)"
   ]
  },
  {
   "cell_type": "code",
   "execution_count": 20,
   "metadata": {},
   "outputs": [
    {
     "name": "stdout",
     "output_type": "stream",
     "text": [
      "              Adj Close\n",
      "Date                   \n",
      "2010-06-30     4.775000\n",
      "2010-07-31     3.911429\n",
      "2010-08-31     3.902273\n",
      "2010-09-30     4.147619\n",
      "2010-10-31     4.143333\n",
      "...                 ...\n",
      "2021-09-30   753.952381\n",
      "2021-10-31   878.349048\n",
      "2021-11-30  1120.662381\n",
      "2021-12-31  1018.890000\n",
      "2022-01-31  1057.527857\n",
      "\n",
      "[140 rows x 1 columns]\n",
      "              Adj Close\n",
      "Date                   \n",
      "2010-12-31     4.668462\n",
      "2011-12-31     5.360833\n",
      "2012-12-31     6.233480\n",
      "2013-12-31    20.880635\n",
      "2014-12-31    44.665675\n",
      "2015-12-31    46.008571\n",
      "2016-12-31    41.953492\n",
      "2017-12-31    62.863307\n",
      "2018-12-31    63.461992\n",
      "2019-12-31    54.706111\n",
      "2020-12-31   289.997075\n",
      "2021-12-31   779.994484\n",
      "2022-12-31  1057.527857\n"
     ]
    }
   ],
   "source": [
    "#Resample dataframe in order to get monthly prices and yearly prices\n",
    "df_Monthly_Price = df.resample('M').mean()\n",
    "df_Yearly_Price = df.resample('Y').mean()\n",
    "print(df_Monthly_Price)\n",
    "print(df_Yearly_Price)"
   ]
  },
  {
   "cell_type": "code",
   "execution_count": 21,
   "metadata": {},
   "outputs": [],
   "source": [
    "price = df_Monthly_Price[\"Adj Close\"]\n",
    "\n",
    "simple_return = price.pct_change()\n",
    "\n",
    "log_return = np.log(1+simple_return)\n"
   ]
  },
  {
   "cell_type": "code",
   "execution_count": 22,
   "metadata": {},
   "outputs": [
    {
     "name": "stdout",
     "output_type": "stream",
     "text": [
      "Populating the interactive namespace from numpy and matplotlib\n"
     ]
    },
    {
     "name": "stderr",
     "output_type": "stream",
     "text": [
      "C:\\Users\\Valentina\\AppData\\Roaming\\Python\\Python38\\site-packages\\IPython\\core\\magics\\pylab.py:159: UserWarning: pylab import has clobbered these variables: ['multivariate_normal']\n",
      "`%matplotlib` prevents importing * from pylab and numpy\n",
      "  warn(\"pylab import has clobbered these variables: %s\"  % clobbered +\n"
     ]
    },
    {
     "data": {
      "text/plain": [
       "<matplotlib.legend.Legend at 0x1ca6c4e3d30>"
      ]
     },
     "execution_count": 22,
     "metadata": {},
     "output_type": "execute_result"
    },
    {
     "data": {
      "image/png": "[encoded data removed]",
      "text/plain": [
       "<Figure size 1080x648 with 1 Axes>"
      ]
     },
     "metadata": {
      "needs_background": "light"
     },
     "output_type": "display_data"
    }
   ],
   "source": [
    "import matplotlib.pyplot as plt   # Import matplotlib\n",
    "# This line is necessary for the plot to appear in a Jupyter notebook\n",
    "%matplotlib inline\n",
    "# Control the default size of figures in this Jupyter notebook\n",
    "%pylab inline\n",
    "\n",
    "pylab.rcParams['figure.figsize'] = (15, 9)   # Change the size of plots\n",
    "\n",
    "simple_return.plot(label = 'Simple Return')# Plot the lsimple return\n",
    "log_return.plot(label = 'Logarithmic Return') # Plot the logreturn\n",
    "plt.legend()\n"
   ]
  },
  {
   "cell_type": "code",
   "execution_count": 23,
   "metadata": {},
   "outputs": [
    {
     "data": {
      "image/png": "[encoded data removed]",
      "text/plain": [
       "<Figure size 1080x648 with 1 Axes>"
      ]
     },
     "metadata": {
      "needs_background": "light"
     },
     "output_type": "display_data"
    }
   ],
   "source": [
    "plt.plot(simple_return,log_return, 'o',c='blue')\n",
    "plt.ylabel( 'Log-return' )\n",
    "plt.xlabel( 'Simple return' )\n",
    "#plt.legend(loc='upper center',bbox_to_anchor=(0.5, -0.15), fancybox=True, shadow=True)\n",
    "plt.show()"
   ]
  },
  {
   "cell_type": "code",
   "execution_count": 24,
   "metadata": {},
   "outputs": [
    {
     "name": "stderr",
     "output_type": "stream",
     "text": [
      "C:\\Program Files\\Python38\\lib\\site-packages\\seaborn\\distributions.py:2551: FutureWarning: `distplot` is a deprecated function and will be removed in a future version. Please adapt your code to use either `displot` (a figure-level function with similar flexibility) or `histplot` (an axes-level function for histograms).\n",
      "  warnings.warn(msg, FutureWarning)\n"
     ]
    },
    {
     "data": {
      "image/png": "[encoded data removed]",
      "text/plain": [
       "<Figure size 1080x648 with 1 Axes>"
      ]
     },
     "metadata": {
      "needs_background": "light"
     },
     "output_type": "display_data"
    }
   ],
   "source": [
    "import seaborn as sns\n",
    "\n",
    "# histogram\n",
    "sns.distplot(log_return, kde=False, norm_hist=True,label='Log-returns') \n",
    "sns.distplot(simple_return, kde=False, norm_hist=True, label='Simple returns')  \n",
    "\n",
    "legend(loc='upper left');\n",
    "\n",
    "# plt.tight_layout()\n",
    "# plt.savefig('images/ch1_im10.png')\n",
    "plt.show()"
   ]
  },
  {
   "cell_type": "code",
   "execution_count": 25,
   "metadata": {},
   "outputs": [
    {
     "data": {
      "text/plain": [
       "count    139.000000\n",
       "mean       0.038851\n",
       "std        0.136763\n",
       "min       -0.355083\n",
       "25%       -0.055735\n",
       "50%        0.033583\n",
       "75%        0.119674\n",
       "max        0.565615\n",
       "Name: Adj Close, dtype: float64"
      ]
     },
     "execution_count": 25,
     "metadata": {},
     "output_type": "execute_result"
    }
   ],
   "source": [
    "log_return.describe()"
   ]
  },
  {
   "cell_type": "code",
   "execution_count": 26,
   "metadata": {},
   "outputs": [
    {
     "data": {
      "text/html": [
       "<div>\n",
       "<style scoped>\n",
       "    .dataframe tbody tr th:only-of-type {\n",
       "        vertical-align: middle;\n",
       "    }\n",
       "\n",
       "    .dataframe tbody tr th {\n",
       "        vertical-align: top;\n",
       "    }\n",
       "\n",
       "    .dataframe thead th {\n",
       "        text-align: right;\n",
       "    }\n",
       "</style>\n",
       "<table border=\"1\" class=\"dataframe\">\n",
       "  <thead>\n",
       "    <tr style=\"text-align: right;\">\n",
       "      <th></th>\n",
       "      <th>Adj Close</th>\n",
       "    </tr>\n",
       "    <tr>\n",
       "      <th>Date</th>\n",
       "      <th></th>\n",
       "    </tr>\n",
       "  </thead>\n",
       "  <tbody>\n",
       "    <tr>\n",
       "      <th>2010-06-29</th>\n",
       "      <td>4.78</td>\n",
       "    </tr>\n",
       "    <tr>\n",
       "      <th>2010-06-30</th>\n",
       "      <td>4.77</td>\n",
       "    </tr>\n",
       "    <tr>\n",
       "      <th>2010-07-01</th>\n",
       "      <td>4.39</td>\n",
       "    </tr>\n",
       "    <tr>\n",
       "      <th>2010-07-02</th>\n",
       "      <td>3.84</td>\n",
       "    </tr>\n",
       "    <tr>\n",
       "      <th>2010-07-06</th>\n",
       "      <td>3.22</td>\n",
       "    </tr>\n",
       "    <tr>\n",
       "      <th>...</th>\n",
       "      <td>...</td>\n",
       "    </tr>\n",
       "    <tr>\n",
       "      <th>2022-01-14</th>\n",
       "      <td>1049.61</td>\n",
       "    </tr>\n",
       "    <tr>\n",
       "      <th>2022-01-18</th>\n",
       "      <td>1030.51</td>\n",
       "    </tr>\n",
       "    <tr>\n",
       "      <th>2022-01-19</th>\n",
       "      <td>995.65</td>\n",
       "    </tr>\n",
       "    <tr>\n",
       "      <th>2022-01-20</th>\n",
       "      <td>996.27</td>\n",
       "    </tr>\n",
       "    <tr>\n",
       "      <th>2022-01-21</th>\n",
       "      <td>943.90</td>\n",
       "    </tr>\n",
       "  </tbody>\n",
       "</table>\n",
       "<p>2913 rows × 1 columns</p>\n",
       "</div>"
      ],
      "text/plain": [
       "            Adj Close\n",
       "Date                 \n",
       "2010-06-29       4.78\n",
       "2010-06-30       4.77\n",
       "2010-07-01       4.39\n",
       "2010-07-02       3.84\n",
       "2010-07-06       3.22\n",
       "...               ...\n",
       "2022-01-14    1049.61\n",
       "2022-01-18    1030.51\n",
       "2022-01-19     995.65\n",
       "2022-01-20     996.27\n",
       "2022-01-21     943.90\n",
       "\n",
       "[2913 rows x 1 columns]"
      ]
     },
     "execution_count": 26,
     "metadata": {},
     "output_type": "execute_result"
    }
   ],
   "source": [
    "adj_close = pd.DataFrame(df[\"Adj Close\"])\n",
    "adj_close"
   ]
  },
  {
   "cell_type": "code",
   "execution_count": 27,
   "metadata": {},
   "outputs": [
    {
     "name": "stdout",
     "output_type": "stream",
     "text": [
      "Populating the interactive namespace from numpy and matplotlib\n"
     ]
    },
    {
     "data": {
      "image/png": "[encoded data removed]",
      "text/plain": [
       "<Figure size 1080x648 with 1 Axes>"
      ]
     },
     "metadata": {
      "needs_background": "light"
     },
     "output_type": "display_data"
    }
   ],
   "source": [
    "x = np.asarray(adj_close)\n",
    "x = np.log(x)\n",
    "N=len(x)\n",
    "vr_1=[]\n",
    "vrt = []\n",
    "w=[]\n",
    "varvrt = []\n",
    "zvrt = []\n",
    "q = []\n",
    "lcl=[]\n",
    "ucl=[]\n",
    "vr_1=[]\n",
    "p_value=[]\n",
    "stderr=[]\n",
    "alpha=0.05\n",
    "k=4\n",
    "\n",
    "def VRTest():\n",
    "    for ii in range (1, k+1):\n",
    "        a=2**ii\n",
    "        q.append(a)\n",
    "        vr = VarianceRatio(x, a)\n",
    "        vrt.append(vr.vr)\n",
    "        se=np.sqrt(vr._stat_variance)/np.sqrt(vr._nobs-1)\n",
    "        stderr.append(se)\n",
    "        lower=vr.vr-stat.norm.ppf(1-alpha/2)*se\n",
    "        upper=vr.vr+stat.norm.ppf(1-alpha/2)*se\n",
    "        one=1\n",
    "        zvrt.append(vr.stat)\n",
    "        lcl.append(lower)\n",
    "        ucl.append(upper)\n",
    "        vr_1.append(one)\n",
    "        p_value.append(vr.pvalue)\n",
    "\n",
    "    return vrt,p_value,zvrt,q,stderr \n",
    "VRTest()\n",
    "\n",
    "confidence=1-alpha\n",
    "%pylab inline\n",
    "pylab.rcParams['figure.figsize'] = (15, 9)   # Change the size of plots\n",
    "#plt.ylim(min(lcl), max(ucl))\n",
    "plt.xlim(0, 2**k+2)\n",
    "plt.xlabel( 'q' )\n",
    "plt.ylabel( 'VR(q)' )\n",
    "plt.plot(q, vr_1,color='black', linestyle='dashed', label='VR(q)=1')\n",
    "plt.plot(q, vrt, color='blue', marker='o',markerfacecolor='blue', markersize=8,label='VR(q)')\n",
    "plt.plot(q, lcl,color='red', linestyle='dashed', label='LCL ' +str('{:.0%}'.format(confidence)))\n",
    "plt.plot(q, ucl,color='red', linestyle='dashed', label='UCL ' +str('{:.0%}'.format(confidence)))\n",
    "plt.legend(loc='upper center', bbox_to_anchor=(0.5, -0.07),fancybox=True, shadow=True, ncol=5)\n",
    "\n",
    "plt.show()"
   ]
  },
  {
   "cell_type": "markdown",
   "metadata": {},
   "source": [
    "# Individual Variance Ratio Tests"
   ]
  },
  {
   "cell_type": "code",
   "execution_count": 28,
   "metadata": {},
   "outputs": [],
   "source": [
    "results=pd.DataFrame(columns=['q','VR test', 'Std. Error','z statistic', 'P-value'])\n",
    "results['q']=q\n",
    "results['VR test']=vrt\n",
    "results['Std. Error']=stderr\n",
    "results['z statistic']=zvrt\n",
    "results['P-value']=p_value"
   ]
  },
  {
   "cell_type": "code",
   "execution_count": 29,
   "metadata": {},
   "outputs": [
    {
     "data": {
      "text/latex": [
       "\\[\\left\\{ \\begin{align}\n",
       "  & {{H}_{0i}}:VR({{q}_{i}})=1 \\\\ \n",
       " & {{H}_{Ai}}:VR({{q}_{i}})\\ne 1 \\\\ \n",
       "\\end{align} \\right.\\]\n"
      ],
      "text/plain": [
       "<IPython.core.display.Latex object>"
      ]
     },
     "metadata": {},
     "output_type": "display_data"
    }
   ],
   "source": [
    "%%latex\n",
    "\\[\\left\\{ \\begin{align}\n",
    "  & {{H}_{0i}}:VR({{q}_{i}})=1 \\\\ \n",
    " & {{H}_{Ai}}:VR({{q}_{i}})\\ne 1 \\\\ \n",
    "\\end{align} \\right.\\]\n"
   ]
  },
  {
   "cell_type": "code",
   "execution_count": 30,
   "metadata": {},
   "outputs": [
    {
     "data": {
      "text/html": [
       "<div>\n",
       "<style scoped>\n",
       "    .dataframe tbody tr th:only-of-type {\n",
       "        vertical-align: middle;\n",
       "    }\n",
       "\n",
       "    .dataframe tbody tr th {\n",
       "        vertical-align: top;\n",
       "    }\n",
       "\n",
       "    .dataframe thead th {\n",
       "        text-align: right;\n",
       "    }\n",
       "</style>\n",
       "<table border=\"1\" class=\"dataframe\">\n",
       "  <thead>\n",
       "    <tr style=\"text-align: right;\">\n",
       "      <th></th>\n",
       "      <th>q</th>\n",
       "      <th>VR test</th>\n",
       "      <th>Std. Error</th>\n",
       "      <th>z statistic</th>\n",
       "      <th>P-value</th>\n",
       "    </tr>\n",
       "  </thead>\n",
       "  <tbody>\n",
       "    <tr>\n",
       "      <th>0</th>\n",
       "      <td>2</td>\n",
       "      <td>1.002562</td>\n",
       "      <td>0.028421</td>\n",
       "      <td>0.090159</td>\n",
       "      <td>0.928161</td>\n",
       "    </tr>\n",
       "    <tr>\n",
       "      <th>1</th>\n",
       "      <td>4</td>\n",
       "      <td>1.010321</td>\n",
       "      <td>0.052175</td>\n",
       "      <td>0.197807</td>\n",
       "      <td>0.843196</td>\n",
       "    </tr>\n",
       "    <tr>\n",
       "      <th>2</th>\n",
       "      <td>8</td>\n",
       "      <td>0.972660</td>\n",
       "      <td>0.078280</td>\n",
       "      <td>-0.349259</td>\n",
       "      <td>0.726895</td>\n",
       "    </tr>\n",
       "    <tr>\n",
       "      <th>3</th>\n",
       "      <td>16</td>\n",
       "      <td>1.001857</td>\n",
       "      <td>0.108904</td>\n",
       "      <td>0.017049</td>\n",
       "      <td>0.986398</td>\n",
       "    </tr>\n",
       "  </tbody>\n",
       "</table>\n",
       "</div>"
      ],
      "text/plain": [
       "    q   VR test  Std. Error  z statistic   P-value\n",
       "0   2  1.002562    0.028421     0.090159  0.928161\n",
       "1   4  1.010321    0.052175     0.197807  0.843196\n",
       "2   8  0.972660    0.078280    -0.349259  0.726895\n",
       "3  16  1.001857    0.108904     0.017049  0.986398"
      ]
     },
     "execution_count": 30,
     "metadata": {},
     "output_type": "execute_result"
    }
   ],
   "source": [
    "results"
   ]
  },
  {
   "cell_type": "markdown",
   "metadata": {},
   "source": [
    "# Multiple Variance Ratio Test - Studentized Maximum Modulus"
   ]
  },
  {
   "cell_type": "code",
   "execution_count": 31,
   "metadata": {},
   "outputs": [
    {
     "data": {
      "text/html": [
       "<div>\n",
       "<style scoped>\n",
       "    .dataframe tbody tr th:only-of-type {\n",
       "        vertical-align: middle;\n",
       "    }\n",
       "\n",
       "    .dataframe tbody tr th {\n",
       "        vertical-align: top;\n",
       "    }\n",
       "\n",
       "    .dataframe thead th {\n",
       "        text-align: right;\n",
       "    }\n",
       "</style>\n",
       "<table border=\"1\" class=\"dataframe\">\n",
       "  <thead>\n",
       "    <tr style=\"text-align: right;\">\n",
       "      <th></th>\n",
       "      <th>z Statistic</th>\n",
       "      <th>Critical z</th>\n",
       "      <th>Decision</th>\n",
       "    </tr>\n",
       "  </thead>\n",
       "  <tbody>\n",
       "    <tr>\n",
       "      <th>0</th>\n",
       "      <td>0.349259</td>\n",
       "      <td>2.490915</td>\n",
       "      <td>Cannot reject the null hypothesis of random walk</td>\n",
       "    </tr>\n",
       "  </tbody>\n",
       "</table>\n",
       "</div>"
      ],
      "text/plain": [
       "  z Statistic  Critical z                                          Decision\n",
       "0    0.349259    2.490915  Cannot reject the null hypothesis of random walk"
      ]
     },
     "execution_count": 31,
     "metadata": {},
     "output_type": "execute_result"
    }
   ],
   "source": [
    "z=abs(results[\"z statistic\"]).max()\n",
    "alpha_star=1-(1-alpha)**(1/k)\n",
    "alpha_star\n",
    "z_star=stat.norm.ppf(1-alpha_star/2)\n",
    "z_star\n",
    "\n",
    "mvr=pd.DataFrame(columns=['z Statistic','Critical z','Decision'])\n",
    "mvr.at[0,'z Statistic']=z\n",
    "mvr['Critical z']=z_star\n",
    "if z<z_star:\n",
    "    mvr['Decision']=\"Cannot reject the null hypothesis of random walk\"\n",
    "else:\n",
    "    mvr['Decision']=\"Reject the null hypothesis of random walk\"\n",
    "mvr"
   ]
  },
  {
   "cell_type": "markdown",
   "metadata": {},
   "source": [
    "# Multiple Variance Ratio Test - Wald Test\n",
    "Wai Mun Fong, Seng Kee Koh & Sam Ouliaris (1997) \n",
    "Joint Variance-Ratio Tests of the Martingale Hypothesis for Exchange Rates, \n",
    "Journal of Business & Economic Statistics, 15:1, 51-59, DOI: 10.1080/07350015.1997.10524686"
   ]
  },
  {
   "cell_type": "markdown",
   "metadata": {},
   "source": [
    "\n",
    "Wald Test=$N\\left[\\hat{V}_{m}-l_{m}\\right]^{\\prime} \\Phi^{-1}\\left[\\hat{V}_{m}-l_{m}\\right] \\sim \\chi_{m}^{2}$\n",
    "\n",
    "$m$ - the number of lags\n",
    "\n",
    "$\\Phi$ - covariance matrix of ${V}_{m}$\n",
    "\n",
    "${V}_{m}$ - individual Variance Ratio statistics\n",
    "\n",
    "$l_{m}$ is an $m \\times 1$ unit vector\n",
    "\n",
    "$\\Phi=\\left(\\begin{array}{cc}\\frac{2(2 r-1)(r-1)}{3 r} &\n",
    "            \\frac{2(3 s-r-1)(r-1)}{3 s} \\\\ \\frac{2(3 s-r-1)(r-1)}{3 s}\n",
    "            & \\frac{2(2 s-1)(s-1)}{3 s}\\end{array}\\right)$, $r,s$  - lags"
   ]
  },
  {
   "cell_type": "code",
   "execution_count": 32,
   "metadata": {},
   "outputs": [
    {
     "data": {
      "text/html": [
       "<div>\n",
       "<style scoped>\n",
       "    .dataframe tbody tr th:only-of-type {\n",
       "        vertical-align: middle;\n",
       "    }\n",
       "\n",
       "    .dataframe tbody tr th {\n",
       "        vertical-align: top;\n",
       "    }\n",
       "\n",
       "    .dataframe thead th {\n",
       "        text-align: right;\n",
       "    }\n",
       "</style>\n",
       "<table border=\"1\" class=\"dataframe\">\n",
       "  <thead>\n",
       "    <tr style=\"text-align: right;\">\n",
       "      <th></th>\n",
       "      <th>Wald Test</th>\n",
       "      <th>Critical Chi2</th>\n",
       "      <th>P-value</th>\n",
       "      <th>Decision</th>\n",
       "    </tr>\n",
       "  </thead>\n",
       "  <tbody>\n",
       "    <tr>\n",
       "      <th>0</th>\n",
       "      <td>5.48396</td>\n",
       "      <td>0.484419</td>\n",
       "      <td>0.241143</td>\n",
       "      <td>Cannot reject the null hypothesis of random walk</td>\n",
       "    </tr>\n",
       "  </tbody>\n",
       "</table>\n",
       "</div>"
      ],
      "text/plain": [
       "  Wald Test  Critical Chi2   P-value  \\\n",
       "0   5.48396       0.484419  0.241143   \n",
       "\n",
       "                                           Decision  \n",
       "0  Cannot reject the null hypothesis of random walk  "
      ]
     },
     "execution_count": 32,
     "metadata": {},
     "output_type": "execute_result"
    }
   ],
   "source": [
    "#Compute the covariance matrix\n",
    "cov1=np.zeros((k,k))\n",
    "\n",
    "q=np.asarray(q)\n",
    "\n",
    "for i in range (0,k-1):\n",
    "    for j in range (i+1,k):\n",
    "        cov1[i][j]=2*(3*q[j]-q[i]-1)*(q[i]-1)/(3*q[j])\n",
    "cov2=np.transpose(cov1)\n",
    "cov=cov1+cov2\n",
    "\n",
    "for i in range (0,k):\n",
    "    #for j in range (i+1,k):\n",
    "  \n",
    "    cov[i][i]=2*(2*q[i]-1)*(q[i]-1)/(3*q[i])\n",
    "    \n",
    "Wald_Test=np.matmul(np.asarray(vrt)-1,np.linalg.inv(cov))\n",
    "                    \n",
    "Wald_Test=N*np.matmul(Wald_Test,np.transpose(np.asarray(vrt)-1))\n",
    "\n",
    "p_val= 1-stat.chi2.cdf(Wald_Test,k)\n",
    "\n",
    "mvrw=pd.DataFrame(columns=['Wald Test','Critical Chi2','P-value','Decision'])\n",
    "mvrw.at[0,'Wald Test']=Wald_Test\n",
    "mvrw['Critical Chi2']=stat.chi2.ppf(alpha/2,k)\n",
    "mvrw['P-value']=p_val\n",
    "if p_val>0.05:\n",
    "    mvrw['Decision']=\"Cannot reject the null hypothesis of random walk\"\n",
    "else:\n",
    "    mvrw['Decision']=\"Reject the null hypothesis of random walk\"\n",
    "mvrw"
   ]
  },
  {
   "cell_type": "markdown",
   "metadata": {},
   "source": [
    "# VAR"
   ]
  },
  {
   "cell_type": "code",
   "execution_count": 39,
   "metadata": {},
   "outputs": [
    {
     "data": {
      "text/html": [
       "<div>\n",
       "<style scoped>\n",
       "    .dataframe tbody tr th:only-of-type {\n",
       "        vertical-align: middle;\n",
       "    }\n",
       "\n",
       "    .dataframe tbody tr th {\n",
       "        vertical-align: top;\n",
       "    }\n",
       "\n",
       "    .dataframe thead th {\n",
       "        text-align: right;\n",
       "    }\n",
       "</style>\n",
       "<table border=\"1\" class=\"dataframe\">\n",
       "  <thead>\n",
       "    <tr style=\"text-align: right;\">\n",
       "      <th>Symbols</th>\n",
       "      <th>AAPL</th>\n",
       "      <th>MSFT</th>\n",
       "      <th>TSLA</th>\n",
       "      <th>GOOG</th>\n",
       "    </tr>\n",
       "    <tr>\n",
       "      <th>Date</th>\n",
       "      <th></th>\n",
       "      <th></th>\n",
       "      <th></th>\n",
       "      <th></th>\n",
       "    </tr>\n",
       "  </thead>\n",
       "  <tbody>\n",
       "    <tr>\n",
       "      <th>2022-01-18</th>\n",
       "      <td>-0.018894</td>\n",
       "      <td>-0.024339</td>\n",
       "      <td>-0.018197</td>\n",
       "      <td>-0.025010</td>\n",
       "    </tr>\n",
       "    <tr>\n",
       "      <th>2022-01-19</th>\n",
       "      <td>-0.021025</td>\n",
       "      <td>0.002247</td>\n",
       "      <td>-0.033828</td>\n",
       "      <td>-0.004685</td>\n",
       "    </tr>\n",
       "    <tr>\n",
       "      <th>2022-01-20</th>\n",
       "      <td>-0.010347</td>\n",
       "      <td>-0.005703</td>\n",
       "      <td>0.000623</td>\n",
       "      <td>-0.015816</td>\n",
       "    </tr>\n",
       "    <tr>\n",
       "      <th>2022-01-21</th>\n",
       "      <td>-0.012765</td>\n",
       "      <td>-0.018468</td>\n",
       "      <td>-0.052566</td>\n",
       "      <td>-0.025575</td>\n",
       "    </tr>\n",
       "    <tr>\n",
       "      <th>2022-01-24</th>\n",
       "      <td>-0.004864</td>\n",
       "      <td>0.001149</td>\n",
       "      <td>-0.014726</td>\n",
       "      <td>0.002152</td>\n",
       "    </tr>\n",
       "  </tbody>\n",
       "</table>\n",
       "</div>"
      ],
      "text/plain": [
       "Symbols         AAPL      MSFT      TSLA      GOOG\n",
       "Date                                              \n",
       "2022-01-18 -0.018894 -0.024339 -0.018197 -0.025010\n",
       "2022-01-19 -0.021025  0.002247 -0.033828 -0.004685\n",
       "2022-01-20 -0.010347 -0.005703  0.000623 -0.015816\n",
       "2022-01-21 -0.012765 -0.018468 -0.052566 -0.025575\n",
       "2022-01-24 -0.004864  0.001149 -0.014726  0.002152"
      ]
     },
     "execution_count": 39,
     "metadata": {},
     "output_type": "execute_result"
    }
   ],
   "source": [
    "from pandas_datareader import data as pdr\n",
    "import fix_yahoo_finance as yf\n",
    "import numpy as np\n",
    "import datetime as dt\n",
    "    \n",
    "# Create our portfolio of equities\n",
    "tickers = ['AAPL','MSFT', 'TSLA', 'GOOG']\n",
    " \n",
    "# Set the investment weights (I arbitrarily picked for example)\n",
    "weights = np.array([.15, .3, .3, .25])\n",
    " \n",
    "# Set an initial investment level\n",
    "initial_investment = 1000000\n",
    " \n",
    "# Download closing prices\n",
    "data = pdr.get_data_yahoo(tickers, start=\"2018-01-01\", end=dt.date.today())['Adj Close']\n",
    " \n",
    "#From the closing prices, calculate periodic returns\n",
    "returns = data.pct_change()\n",
    "\n",
    "returns.tail()"
   ]
  },
  {
   "cell_type": "code",
   "execution_count": 34,
   "metadata": {},
   "outputs": [
    {
     "data": {
      "text/html": [
       "<div>\n",
       "<style scoped>\n",
       "    .dataframe tbody tr th:only-of-type {\n",
       "        vertical-align: middle;\n",
       "    }\n",
       "\n",
       "    .dataframe tbody tr th {\n",
       "        vertical-align: top;\n",
       "    }\n",
       "\n",
       "    .dataframe thead th {\n",
       "        text-align: right;\n",
       "    }\n",
       "</style>\n",
       "<table border=\"1\" class=\"dataframe\">\n",
       "  <thead>\n",
       "    <tr style=\"text-align: right;\">\n",
       "      <th>Symbols</th>\n",
       "      <th>AAPL</th>\n",
       "      <th>MSFT</th>\n",
       "      <th>TSLA</th>\n",
       "      <th>GOOG</th>\n",
       "    </tr>\n",
       "    <tr>\n",
       "      <th>Symbols</th>\n",
       "      <th></th>\n",
       "      <th></th>\n",
       "      <th></th>\n",
       "      <th></th>\n",
       "    </tr>\n",
       "  </thead>\n",
       "  <tbody>\n",
       "    <tr>\n",
       "      <th>AAPL</th>\n",
       "      <td>0.000426</td>\n",
       "      <td>0.000294</td>\n",
       "      <td>0.000358</td>\n",
       "      <td>0.000255</td>\n",
       "    </tr>\n",
       "    <tr>\n",
       "      <th>MSFT</th>\n",
       "      <td>0.000294</td>\n",
       "      <td>0.000353</td>\n",
       "      <td>0.000337</td>\n",
       "      <td>0.000273</td>\n",
       "    </tr>\n",
       "    <tr>\n",
       "      <th>TSLA</th>\n",
       "      <td>0.000358</td>\n",
       "      <td>0.000337</td>\n",
       "      <td>0.001694</td>\n",
       "      <td>0.000278</td>\n",
       "    </tr>\n",
       "    <tr>\n",
       "      <th>GOOG</th>\n",
       "      <td>0.000255</td>\n",
       "      <td>0.000273</td>\n",
       "      <td>0.000278</td>\n",
       "      <td>0.000337</td>\n",
       "    </tr>\n",
       "  </tbody>\n",
       "</table>\n",
       "</div>"
      ],
      "text/plain": [
       "Symbols      AAPL      MSFT      TSLA      GOOG\n",
       "Symbols                                        \n",
       "AAPL     0.000426  0.000294  0.000358  0.000255\n",
       "MSFT     0.000294  0.000353  0.000337  0.000273\n",
       "TSLA     0.000358  0.000337  0.001694  0.000278\n",
       "GOOG     0.000255  0.000273  0.000278  0.000337"
      ]
     },
     "execution_count": 34,
     "metadata": {},
     "output_type": "execute_result"
    }
   ],
   "source": [
    "cov_matrix = returns.cov()\n",
    "cov_matrix\n",
    "#This will allow us to calculate the standard deviation and mean of returns across the entire portfolio."
   ]
  },
  {
   "cell_type": "code",
   "execution_count": 35,
   "metadata": {},
   "outputs": [],
   "source": [
    "# Calculate mean returns for each stock\n",
    "avg_rets = returns.mean()\n",
    " \n",
    "# Calculate mean returns for portfolio overall, \n",
    "# using dot product to \n",
    "# normalize individual means against investment weights\n",
    " # https://en.wikipedia.org/wiki/Dot_product#:~:targetText=In%20mathematics%2C%20the%20dot%20product,and%20returns%20a%20single%20number.\n",
    "port_mean = avg_rets.dot(weights)\n",
    " \n",
    "# Calculate portfolio standard deviation\n",
    "port_stdev = np.sqrt(weights.T.dot(cov_matrix).dot(weights))\n",
    " \n",
    "# Calculate mean of investment\n",
    "mean_investment = (1+port_mean) * initial_investment\n",
    "             \n",
    "# Calculate standard deviation of investmnet\n",
    "stdev_investment = initial_investment * port_stdev"
   ]
  },
  {
   "cell_type": "code",
   "execution_count": 36,
   "metadata": {},
   "outputs": [],
   "source": [
    "# Select our confidence interval (I'll choose 95% here)\n",
    "conf_level1 = 0.05\n",
    "\n",
    "# Using SciPy ppf method to generate values for the\n",
    "# inverse cumulative distribution function to a normal distribution\n",
    "# Plugging in the mean, standard deviation of our portfolio\n",
    "# as calculated above\n",
    "# https://docs.scipy.org/doc/scipy/reference/generated/scipy.stats.norm.html\n",
    "from scipy.stats import norm\n",
    "cutoff1 = norm.ppf(conf_level1, mean_investment, stdev_investment)"
   ]
  },
  {
   "cell_type": "code",
   "execution_count": 37,
   "metadata": {},
   "outputs": [
    {
     "data": {
      "text/plain": [
       "32382.009781739907"
      ]
     },
     "execution_count": 37,
     "metadata": {},
     "output_type": "execute_result"
    }
   ],
   "source": [
    "#Finally, we can calculate the VaR at our confidence interval\n",
    "var_1d1 = initial_investment - cutoff1\n",
    "var_1d1\n",
    "#output\n",
    "#Here we are saying with 95% confidence that our portfolio of 1M USD will not exceed losses greater than 32k USD over a one day period."
   ]
  },
  {
   "cell_type": "code",
   "execution_count": 38,
   "metadata": {},
   "outputs": [
    {
     "name": "stdout",
     "output_type": "stream",
     "text": [
      "1 day VaR @ 95% confidence: 32382.01\n",
      "2 day VaR @ 95% confidence: 45795.08\n",
      "3 day VaR @ 95% confidence: 56087.29\n",
      "4 day VaR @ 95% confidence: 64764.02\n",
      "5 day VaR @ 95% confidence: 72408.38\n",
      "6 day VaR @ 95% confidence: 79319.4\n",
      "7 day VaR @ 95% confidence: 85674.74\n",
      "8 day VaR @ 95% confidence: 91590.15\n",
      "9 day VaR @ 95% confidence: 97146.03\n",
      "10 day VaR @ 95% confidence: 102400.91\n",
      "11 day VaR @ 95% confidence: 107398.98\n",
      "12 day VaR @ 95% confidence: 112174.57\n",
      "13 day VaR @ 95% confidence: 116755.0\n",
      "14 day VaR @ 95% confidence: 121162.39\n",
      "15 day VaR @ 95% confidence: 125414.98\n"
     ]
    },
    {
     "data": {
      "text/plain": [
       "[<matplotlib.lines.Line2D at 0x1ca6dd87c40>]"
      ]
     },
     "execution_count": 38,
     "metadata": {},
     "output_type": "execute_result"
    },
    {
     "data": {
      "image/png": "[encoded data removed]",
      "text/plain": [
       "<Figure size 1080x648 with 1 Axes>"
      ]
     },
     "metadata": {
      "needs_background": "light"
     },
     "output_type": "display_data"
    }
   ],
   "source": [
    "# Calculate n Day VaR\n",
    "var_array = []\n",
    "num_days = int(15)\n",
    "for x in range(1, num_days+1):    \n",
    "    var_array.append(np.round(var_1d1 * np.sqrt(x),2))\n",
    "    print(str(x) + \" day VaR @ 95% confidence: \" + str(np.round(var_1d1 * np.sqrt(x),2)))\n",
    "\n",
    "# Build plot\n",
    "plt.xlabel(\"Day #\")\n",
    "plt.ylabel(\"Max portfolio loss (USD)\")\n",
    "plt.title(\"Max portfolio loss (VaR) over 15-day period\")\n",
    "plt.plot(var_array, \"r\")"
   ]
  }
 ],
 "metadata": {
  "kernelspec": {
   "display_name": "Python 3",
   "language": "python",
   "name": "python3"
  },
  "language_info": {
   "codemirror_mode": {
    "name": "ipython",
    "version": 3
   },
   "file_extension": ".py",
   "mimetype": "text/x-python",
   "name": "python",
   "nbconvert_exporter": "python",
   "pygments_lexer": "ipython3",
   "version": "3.8.6"
  }
 },
 "nbformat": 4,
 "nbformat_minor": 4
}
